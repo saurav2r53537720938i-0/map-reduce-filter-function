{
 "cells": [
  {
   "cell_type": "code",
   "execution_count": 3,
   "id": "b047f82f-97a7-43db-bed3-1d1455ed2676",
   "metadata": {},
   "outputs": [],
   "source": [
    "l =[2,3,4,5,6]"
   ]
  },
  {
   "cell_type": "code",
   "execution_count": 13,
   "id": "8ea4c2a1-c059-408a-9328-b0c9d348827b",
   "metadata": {},
   "outputs": [],
   "source": [
    "def test(l):\n",
    "    l1 = []\n",
    "    for i in l :\n",
    "        l1.append(i**2)\n",
    "    return l1"
   ]
  },
  {
   "cell_type": "code",
   "execution_count": 14,
   "id": "6d74b240-25f9-4817-bb83-b8cdef6a4d0a",
   "metadata": {},
   "outputs": [
    {
     "data": {
      "text/plain": [
       "[4, 9, 16, 25, 36]"
      ]
     },
     "execution_count": 14,
     "metadata": {},
     "output_type": "execute_result"
    }
   ],
   "source": [
    "test(l)"
   ]
  },
  {
   "cell_type": "code",
   "execution_count": 15,
   "id": "268e5dce-f440-4d4b-96f9-493a41076830",
   "metadata": {},
   "outputs": [],
   "source": [
    "def sq(x):\n",
    "    return x**2"
   ]
  },
  {
   "cell_type": "code",
   "execution_count": 16,
   "id": "78373f2d-d0f4-4502-afd5-0afe635e71a1",
   "metadata": {},
   "outputs": [
    {
     "data": {
      "text/plain": [
       "[4, 9, 16, 25, 36]"
      ]
     },
     "execution_count": 16,
     "metadata": {},
     "output_type": "execute_result"
    }
   ],
   "source": [
    "list(map(sq,l))"
   ]
  },
  {
   "cell_type": "code",
   "execution_count": 17,
   "id": "21285b7f-34f3-4f8c-b434-439548b103fa",
   "metadata": {},
   "outputs": [
    {
     "data": {
      "text/plain": [
       "[4, 9, 16, 25, 36]"
      ]
     },
     "execution_count": 17,
     "metadata": {},
     "output_type": "execute_result"
    }
   ],
   "source": [
    "list(map(lambda x:x**2,l))"
   ]
  },
  {
   "cell_type": "code",
   "execution_count": 18,
   "id": "f6e5497f-19a4-49e1-960f-708b173c3bef",
   "metadata": {},
   "outputs": [],
   "source": [
    "l1 = [1,2,3,4,5]"
   ]
  },
  {
   "cell_type": "code",
   "execution_count": 19,
   "id": "b03b65bb-729c-4236-b2c1-477d94e40067",
   "metadata": {},
   "outputs": [],
   "source": [
    "l2 = [6,7,8,9,10]"
   ]
  },
  {
   "cell_type": "code",
   "execution_count": 20,
   "id": "5b536607-d678-41e2-8e27-a9732e2f7ef7",
   "metadata": {},
   "outputs": [
    {
     "data": {
      "text/plain": [
       "[7, 9, 11, 13, 15]"
      ]
     },
     "execution_count": 20,
     "metadata": {},
     "output_type": "execute_result"
    }
   ],
   "source": [
    "list(map(lambda x,y:x+y,l1,l2))"
   ]
  },
  {
   "cell_type": "code",
   "execution_count": 24,
   "id": "c77d8fff-ebe7-4e91-a1b7-d4bcb899d111",
   "metadata": {},
   "outputs": [
    {
     "data": {
      "text/plain": [
       "[7, 9, 11, 13, 15]"
      ]
     },
     "execution_count": 24,
     "metadata": {},
     "output_type": "execute_result"
    }
   ],
   "source": [
    "def add(x,y):\n",
    "    return x+y\n",
    "list(map(add,l1,l2))"
   ]
  },
  {
   "cell_type": "code",
   "execution_count": 25,
   "id": "d52c9877-0426-4f93-a11c-7585d97b7b81",
   "metadata": {},
   "outputs": [
    {
     "data": {
      "text/plain": [
       "['P', 'W', 'S', 'K', 'I', 'L', 'L', 'S']"
      ]
     },
     "execution_count": 25,
     "metadata": {},
     "output_type": "execute_result"
    }
   ],
   "source": [
    "s = \"pwskills\"\n",
    "list(map(lambda s:s.upper(),s))"
   ]
  },
  {
   "cell_type": "code",
   "execution_count": 35,
   "id": "da63c8a5-7ec5-4cea-8347-b8b33475d715",
   "metadata": {},
   "outputs": [],
   "source": [
    "from functools import reduce\n",
    "l = [1,2,3,3,4,5]"
   ]
  },
  {
   "cell_type": "code",
   "execution_count": 36,
   "id": "870e3957-d644-4eea-aeb8-82e9102a150f",
   "metadata": {},
   "outputs": [
    {
     "data": {
      "text/plain": [
       "18"
      ]
     },
     "execution_count": 36,
     "metadata": {},
     "output_type": "execute_result"
    }
   ],
   "source": [
    "reduce(lambda x,y :x+y, l)"
   ]
  },
  {
   "cell_type": "code",
   "execution_count": 33,
   "id": "c0c5a495-843c-45bc-915b-c374e20f92bd",
   "metadata": {},
   "outputs": [
    {
     "ename": "TypeError",
     "evalue": "<lambda>() missing 1 required positional argument: 'z'",
     "output_type": "error",
     "traceback": [
      "\u001b[0;31m---------------------------------------------------------------------------\u001b[0m",
      "\u001b[0;31mTypeError\u001b[0m                                 Traceback (most recent call last)",
      "Cell \u001b[0;32mIn[33], line 1\u001b[0m\n\u001b[0;32m----> 1\u001b[0m \u001b[43mreduce\u001b[49m\u001b[43m(\u001b[49m\u001b[38;5;28;43;01mlambda\u001b[39;49;00m\u001b[43m \u001b[49m\u001b[43mx\u001b[49m\u001b[43m,\u001b[49m\u001b[43my\u001b[49m\u001b[43m,\u001b[49m\u001b[43mz\u001b[49m\u001b[43m \u001b[49m\u001b[43m:\u001b[49m\u001b[43mx\u001b[49m\u001b[38;5;241;43m+\u001b[39;49m\u001b[43my\u001b[49m\u001b[38;5;241;43m+\u001b[39;49m\u001b[43mz\u001b[49m\u001b[43m,\u001b[49m\u001b[43ml\u001b[49m\u001b[43m)\u001b[49m\n",
      "\u001b[0;31mTypeError\u001b[0m: <lambda>() missing 1 required positional argument: 'z'"
     ]
    }
   ],
   "source": [
    "reduce(lambda x,y,z :x+y+z,l)"
   ]
  },
  {
   "cell_type": "code",
   "execution_count": 34,
   "id": "bc66dacc-da94-41d2-ba89-0f1f0fd6a990",
   "metadata": {},
   "outputs": [
    {
     "ename": "TypeError",
     "evalue": "reduce() of empty iterable with no initial value",
     "output_type": "error",
     "traceback": [
      "\u001b[0;31m---------------------------------------------------------------------------\u001b[0m",
      "\u001b[0;31mTypeError\u001b[0m                                 Traceback (most recent call last)",
      "Cell \u001b[0;32mIn[34], line 1\u001b[0m\n\u001b[0;32m----> 1\u001b[0m \u001b[43mreduce\u001b[49m\u001b[43m(\u001b[49m\u001b[38;5;28;43;01mlambda\u001b[39;49;00m\u001b[43m \u001b[49m\u001b[43mx\u001b[49m\u001b[43m,\u001b[49m\u001b[43my\u001b[49m\u001b[43m:\u001b[49m\u001b[43mx\u001b[49m\u001b[38;5;241;43m+\u001b[39;49m\u001b[43my\u001b[49m\u001b[43m,\u001b[49m\u001b[43m[\u001b[49m\u001b[43m]\u001b[49m\u001b[43m)\u001b[49m\n",
      "\u001b[0;31mTypeError\u001b[0m: reduce() of empty iterable with no initial value"
     ]
    }
   ],
   "source": [
    "reduce(lambda x,y:x+y,[])"
   ]
  },
  {
   "cell_type": "code",
   "execution_count": 38,
   "id": "5c97b89d-ab93-4dc3-aa80-7f29732146a7",
   "metadata": {},
   "outputs": [
    {
     "data": {
      "text/plain": [
       "1"
      ]
     },
     "execution_count": 38,
     "metadata": {},
     "output_type": "execute_result"
    }
   ],
   "source": [
    "reduce(lambda x,y:x*y,[1])"
   ]
  },
  {
   "cell_type": "code",
   "execution_count": 39,
   "id": "8a653401-4b55-4f92-be3b-ab4fa1f37d0e",
   "metadata": {},
   "outputs": [
    {
     "data": {
      "text/plain": [
       "[1, 2, 3, 3, 4, 5]"
      ]
     },
     "execution_count": 39,
     "metadata": {},
     "output_type": "execute_result"
    }
   ],
   "source": [
    "reduce(lambda x,y:x*y,[l])"
   ]
  },
  {
   "cell_type": "code",
   "execution_count": 41,
   "id": "d636d27d-fd75-4a0e-b2fd-765c185c323b",
   "metadata": {},
   "outputs": [
    {
     "data": {
      "text/plain": [
       "360"
      ]
     },
     "execution_count": 41,
     "metadata": {},
     "output_type": "execute_result"
    }
   ],
   "source": [
    "reduce(lambda x,y:x*y,l)"
   ]
  },
  {
   "cell_type": "code",
   "execution_count": 43,
   "id": "7a8db27f-4039-4289-b17d-0c9b9d897072",
   "metadata": {},
   "outputs": [
    {
     "data": {
      "text/plain": [
       "5"
      ]
     },
     "execution_count": 43,
     "metadata": {},
     "output_type": "execute_result"
    }
   ],
   "source": [
    "reduce(lambda x,y:x if x>y else y,l)"
   ]
  },
  {
   "cell_type": "code",
   "execution_count": 44,
   "id": "e1949262-1fb9-47df-bac6-d6cff9d1df06",
   "metadata": {},
   "outputs": [
    {
     "data": {
      "text/plain": [
       "[1, 2, 3, 3, 4, 5]"
      ]
     },
     "execution_count": 44,
     "metadata": {},
     "output_type": "execute_result"
    }
   ],
   "source": [
    "l"
   ]
  },
  {
   "cell_type": "code",
   "execution_count": 46,
   "id": "7cd834b5-13cc-40ab-980e-b954a2ea22aa",
   "metadata": {},
   "outputs": [
    {
     "data": {
      "text/plain": [
       "[2, 4]"
      ]
     },
     "execution_count": 46,
     "metadata": {},
     "output_type": "execute_result"
    }
   ],
   "source": [
    "list(filter(lambda x:x%2 == 0,l))"
   ]
  },
  {
   "cell_type": "code",
   "execution_count": 52,
   "id": "03999a80-45e2-41a4-9762-092d9cdd7fdb",
   "metadata": {},
   "outputs": [
    {
     "ename": "SyntaxError",
     "evalue": "unexpected character after line continuation character (347247449.py, line 1)",
     "output_type": "error",
     "traceback": [
      "\u001b[0;36m  Cell \u001b[0;32mIn[52], line 1\u001b[0;36m\u001b[0m\n\u001b[0;31m    list(filter(lambda x:x%\\= 0,l))\u001b[0m\n\u001b[0m                            ^\u001b[0m\n\u001b[0;31mSyntaxError\u001b[0m\u001b[0;31m:\u001b[0m unexpected character after line continuation character\n"
     ]
    }
   ],
   "source": [
    "list(filter(lambda x:x%\\= 0,l))"
   ]
  },
  {
   "cell_type": "code",
   "execution_count": 53,
   "id": "e938359d-f20a-46c2-979d-545813f61325",
   "metadata": {},
   "outputs": [],
   "source": [
    "l1 = [-3,4,5,6,7,-1,-5]"
   ]
  },
  {
   "cell_type": "code",
   "execution_count": 54,
   "id": "9c24b3de-1028-47d2-8457-65b724f29197",
   "metadata": {},
   "outputs": [
    {
     "data": {
      "text/plain": [
       "[-3, -1, -5]"
      ]
     },
     "execution_count": 54,
     "metadata": {},
     "output_type": "execute_result"
    }
   ],
   "source": [
    "list(filter(lambda x:x<0,l1))"
   ]
  },
  {
   "cell_type": "code",
   "execution_count": 56,
   "id": "84508f2c-259c-44e7-b0d5-4a306247bf4c",
   "metadata": {},
   "outputs": [],
   "source": [
    "l2 = [\"sudh\",\"pwskills\",\"kumar\",\"bangalore\",\"krish\"]"
   ]
  },
  {
   "cell_type": "code",
   "execution_count": 60,
   "id": "836f40ae-4ced-4812-ba4c-958b37dfdb42",
   "metadata": {},
   "outputs": [
    {
     "data": {
      "text/plain": [
       "['sudh', 'pwskills', 'kumar', 'bangalore', 'krish']"
      ]
     },
     "execution_count": 60,
     "metadata": {},
     "output_type": "execute_result"
    }
   ],
   "source": [
    "list(filter(lambda x: len(l2)<6,l2))"
   ]
  },
  {
   "cell_type": "code",
   "execution_count": null,
   "id": "48804bed-f8ce-41e7-867f-aa9c0a722c5d",
   "metadata": {},
   "outputs": [],
   "source": []
  }
 ],
 "metadata": {
  "kernelspec": {
   "display_name": "Python 3 (ipykernel)",
   "language": "python",
   "name": "python3"
  },
  "language_info": {
   "codemirror_mode": {
    "name": "ipython",
    "version": 3
   },
   "file_extension": ".py",
   "mimetype": "text/x-python",
   "name": "python",
   "nbconvert_exporter": "python",
   "pygments_lexer": "ipython3",
   "version": "3.10.8"
  }
 },
 "nbformat": 4,
 "nbformat_minor": 5
}
